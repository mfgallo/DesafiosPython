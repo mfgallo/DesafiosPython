{
 "cells": [
  {
   "cell_type": "markdown",
   "metadata": {},
   "source": [
    "#### Desafio 1\n",
    "#### Nome: Mauricio Gallo Fausto Jr\n",
    "#### RM: 336168"
   ]
  },
  {
   "cell_type": "markdown",
   "metadata": {},
   "source": [
    "### Conjectura de Legendre\n",
    "\n",
    "A Conjectura de Legendre, enunciada por de Adrien-Marie Legendre, afirma que existe sempre um número primo entre $n^2 $ e $(n+1)^2$, para qualquer $n$ inteiro positivo\n",
    "\n",
    "Seu desafio será criar uma função que, dado um input (inteiro n) retorne todos os números primos entre $n^2$ e $(n+1)^2$. \n",
    "\n",
    "Exemplo:\n",
    "\n",
    "    > input: 4\n",
    "    \n",
    "    > output: [17,19,23]"
   ]
  },
  {
   "cell_type": "code",
   "execution_count": 11,
   "metadata": {},
   "outputs": [],
   "source": [
    "def isprime(n):\n",
    "    if n >=2:\n",
    "        for i in range(2,n):\n",
    "            if not (n % i):\n",
    "                return False\n",
    "    else:\n",
    "        return False\n",
    "    return True\n",
    "\n",
    "    # TODO: implemente uma função que retorne TRUE se um número é ou não primo"
   ]
  },
  {
   "cell_type": "code",
   "execution_count": 12,
   "metadata": {},
   "outputs": [
    {
     "name": "stdout",
     "output_type": "stream",
     "text": [
      "[17, 19, 23]\n"
     ]
    }
   ],
   "source": [
    "def LegendreConjecture(n):\n",
    "    numero_n = n**2\n",
    "    numero_n1 = (n + 1)**2\n",
    "    lista = []\n",
    "    for i in range(x,y):\n",
    "        if isprime(i):\n",
    "            lista.append(i)\n",
    "    return lista\n",
    "\n",
    "x = LegendreConjecture(4)\n",
    "print(x)\n",
    "    # TODO: implemente uma função que retorne uma lista contendo os números primos entre n^2 e (n+1)^2"
   ]
  },
  {
   "cell_type": "markdown",
   "metadata": {},
   "source": [
    "## Classe de leitura de arquivo\n",
    "\n",
    "Crie uma classe que\n",
    "\n",
    "        > crie um método que tenta ler um arquivo de texto (.txt)\n",
    "        > crie um método usando regex para extrair datas do texto. Considere apenas os dois tipos: dd/mm/aaaa e d/m/aa\n",
    "        > crie um método que utilize Counter para contar a quantidade de cada caracter"
   ]
  },
  {
   "cell_type": "code",
   "execution_count": 4,
   "metadata": {},
   "outputs": [
    {
     "name": "stdout",
     "output_type": "stream",
     "text": [
      "[['01/02/2020'], ['02/02/2020']]\n",
      "Counter({'0': 4, '2': 4, 'a': 3, '/': 2, 'm': 1, 'n': 1, 'h': 1, 'e': 1})\n"
     ]
    }
   ],
   "source": [
    "import re\n",
    "from collections import Counter\n",
    "class ExtractTextInformation():\n",
    "    \n",
    "    def __init__(self, file):\n",
    "        self.file = file\n",
    "        \n",
    "    def ler_arquivo(self):\n",
    "        temp = open(self.file, 'r').readlines()\n",
    "        return temp\n",
    "    \n",
    "    def ExtrairDatas(self, texto):\n",
    "        lista_datas = []\n",
    "        for text in texto:\n",
    "            data = re.findall(r\"[\\d]{1,2}/[\\d]{1,2}/[\\d]{2,4}\", text)\n",
    "            lista_datas.append(data)\n",
    "        return lista_datas\n",
    "    \n",
    "    def ContadorCaracter(self, texto):\n",
    "        lista = []\n",
    "        for i in texto:\n",
    "            lista.append(i.replace(\" \", \"\").replace(\"\\n\", \"\"))\n",
    "            \n",
    "            for caracter in lista:\n",
    "                contagem = Counter(caracter.lower().strip())\n",
    "                \n",
    "        return contagem\n",
    "        \n",
    "        \n",
    "        \n",
    "    \n",
    "textInformation = ExtractTextInformation(\"Exercicio.txt\")\n",
    "text = textInformation.ler_arquivo()\n",
    "datas = textInformation.ExtrairDatas(text)\n",
    "print(datas)\n",
    "qntd = textInformation.ContadorCaracter(text)\n",
    "print(qntd)"
   ]
  },
  {
   "cell_type": "code",
   "execution_count": null,
   "metadata": {},
   "outputs": [],
   "source": []
  },
  {
   "cell_type": "code",
   "execution_count": null,
   "metadata": {},
   "outputs": [],
   "source": []
  },
  {
   "cell_type": "code",
   "execution_count": null,
   "metadata": {},
   "outputs": [],
   "source": []
  },
  {
   "cell_type": "code",
   "execution_count": null,
   "metadata": {},
   "outputs": [],
   "source": []
  }
 ],
 "metadata": {
  "kernelspec": {
   "display_name": "Python 3",
   "language": "python",
   "name": "python3"
  },
  "language_info": {
   "codemirror_mode": {
    "name": "ipython",
    "version": 3
   },
   "file_extension": ".py",
   "mimetype": "text/x-python",
   "name": "python",
   "nbconvert_exporter": "python",
   "pygments_lexer": "ipython3",
   "version": "3.7.3"
  }
 },
 "nbformat": 4,
 "nbformat_minor": 4
}
