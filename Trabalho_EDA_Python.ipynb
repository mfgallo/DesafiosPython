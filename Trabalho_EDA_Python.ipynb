{
 "cells": [
  {
   "cell_type": "markdown",
   "metadata": {},
   "source": [
    "# Trabalho Final - Análise de Dados com Python\n",
    "\n",
    "Integrantes:\n",
    "\n",
    "    1) Rafael Favretti da Silva - RM: 335332\n",
    "    2) Mauricio Gallo Fausto Junior - RM: 336168\n",
    "    3) Gustavo Villa Nova Santos - RM: 335645"
   ]
  },
  {
   "cell_type": "markdown",
   "metadata": {},
   "source": [
    "### Qual será seu trabalho aqui?\n",
    "\n",
    "Basicamente, vocês devem usar todo conhecimento que adquiriram durante o curo e criar um modelo de Regressão Linear cujo RMSE seja em torno de 69000, o que significa que o erro de predição é, em média, de 69000.\n",
    "Entretanto, para chegar a essa predição, uma série de análise e preparações nos dados devem ser feitas. Vocês devem fazer os todo's que aqui foram deixados a fim de chegar a esse valor numa regressão"
   ]
  },
  {
   "cell_type": "code",
   "execution_count": 1,
   "metadata": {},
   "outputs": [],
   "source": [
    "# todos os pacotes que serão utilizados foram importados\n",
    "# há alguns que não vimos em classe, mas parte do processo de avaliação entender como esses pacotes funcionam\n",
    "# na prática, são muito similares aos que vimos em sala\n",
    "import pandas as pd\n",
    "import numpy as np\n",
    "import matplotlib.pyplot as plt\n",
    "from sklearn.model_selection import train_test_split\n",
    "from sklearn.impute import SimpleImputer\n",
    "from sklearn.pipeline import Pipeline\n",
    "from sklearn.preprocessing import StandardScaler\n",
    "from sklearn.pipeline import FeatureUnion\n",
    "from sklearn.preprocessing import OrdinalEncoder\n",
    "from sklearn.linear_model import LinearRegression\n",
    "from sklearn.preprocessing import MinMaxScaler"
   ]
  },
  {
   "cell_type": "code",
   "execution_count": 2,
   "metadata": {},
   "outputs": [
    {
     "data": {
      "text/html": [
       "<div>\n",
       "<style scoped>\n",
       "    .dataframe tbody tr th:only-of-type {\n",
       "        vertical-align: middle;\n",
       "    }\n",
       "\n",
       "    .dataframe tbody tr th {\n",
       "        vertical-align: top;\n",
       "    }\n",
       "\n",
       "    .dataframe thead th {\n",
       "        text-align: right;\n",
       "    }\n",
       "</style>\n",
       "<table border=\"1\" class=\"dataframe\">\n",
       "  <thead>\n",
       "    <tr style=\"text-align: right;\">\n",
       "      <th></th>\n",
       "      <th>longitude</th>\n",
       "      <th>latitude</th>\n",
       "      <th>housing_median_age</th>\n",
       "      <th>total_rooms</th>\n",
       "      <th>total_bedrooms</th>\n",
       "      <th>population</th>\n",
       "      <th>households</th>\n",
       "      <th>median_income</th>\n",
       "      <th>median_house_value</th>\n",
       "      <th>ocean_proximity</th>\n",
       "    </tr>\n",
       "  </thead>\n",
       "  <tbody>\n",
       "    <tr>\n",
       "      <th>0</th>\n",
       "      <td>-122.23</td>\n",
       "      <td>37.88</td>\n",
       "      <td>41.0</td>\n",
       "      <td>880.0</td>\n",
       "      <td>129.0</td>\n",
       "      <td>322.0</td>\n",
       "      <td>126.0</td>\n",
       "      <td>8.3252</td>\n",
       "      <td>452600.0</td>\n",
       "      <td>NEAR BAY</td>\n",
       "    </tr>\n",
       "    <tr>\n",
       "      <th>1</th>\n",
       "      <td>-122.22</td>\n",
       "      <td>37.86</td>\n",
       "      <td>21.0</td>\n",
       "      <td>7099.0</td>\n",
       "      <td>1106.0</td>\n",
       "      <td>2401.0</td>\n",
       "      <td>1138.0</td>\n",
       "      <td>8.3014</td>\n",
       "      <td>358500.0</td>\n",
       "      <td>NEAR BAY</td>\n",
       "    </tr>\n",
       "    <tr>\n",
       "      <th>2</th>\n",
       "      <td>-122.24</td>\n",
       "      <td>37.85</td>\n",
       "      <td>52.0</td>\n",
       "      <td>1467.0</td>\n",
       "      <td>190.0</td>\n",
       "      <td>496.0</td>\n",
       "      <td>177.0</td>\n",
       "      <td>7.2574</td>\n",
       "      <td>352100.0</td>\n",
       "      <td>NEAR BAY</td>\n",
       "    </tr>\n",
       "    <tr>\n",
       "      <th>3</th>\n",
       "      <td>-122.25</td>\n",
       "      <td>37.85</td>\n",
       "      <td>52.0</td>\n",
       "      <td>1274.0</td>\n",
       "      <td>235.0</td>\n",
       "      <td>558.0</td>\n",
       "      <td>219.0</td>\n",
       "      <td>5.6431</td>\n",
       "      <td>341300.0</td>\n",
       "      <td>NEAR BAY</td>\n",
       "    </tr>\n",
       "    <tr>\n",
       "      <th>4</th>\n",
       "      <td>-122.25</td>\n",
       "      <td>37.85</td>\n",
       "      <td>52.0</td>\n",
       "      <td>1627.0</td>\n",
       "      <td>280.0</td>\n",
       "      <td>565.0</td>\n",
       "      <td>259.0</td>\n",
       "      <td>3.8462</td>\n",
       "      <td>342200.0</td>\n",
       "      <td>NEAR BAY</td>\n",
       "    </tr>\n",
       "  </tbody>\n",
       "</table>\n",
       "</div>"
      ],
      "text/plain": [
       "   longitude  latitude  housing_median_age  total_rooms  total_bedrooms  \\\n",
       "0    -122.23     37.88                41.0        880.0           129.0   \n",
       "1    -122.22     37.86                21.0       7099.0          1106.0   \n",
       "2    -122.24     37.85                52.0       1467.0           190.0   \n",
       "3    -122.25     37.85                52.0       1274.0           235.0   \n",
       "4    -122.25     37.85                52.0       1627.0           280.0   \n",
       "\n",
       "   population  households  median_income  median_house_value ocean_proximity  \n",
       "0       322.0       126.0         8.3252            452600.0        NEAR BAY  \n",
       "1      2401.0      1138.0         8.3014            358500.0        NEAR BAY  \n",
       "2       496.0       177.0         7.2574            352100.0        NEAR BAY  \n",
       "3       558.0       219.0         5.6431            341300.0        NEAR BAY  \n",
       "4       565.0       259.0         3.8462            342200.0        NEAR BAY  "
      ]
     },
     "execution_count": 2,
     "metadata": {},
     "output_type": "execute_result"
    }
   ],
   "source": [
    "# leitura dos dados\n",
    "housing = pd.read_csv('housing.csv')\n",
    "housing.head()"
   ]
  },
  {
   "cell_type": "markdown",
   "metadata": {},
   "source": [
    "### TODO 1: Análise e visualização de dados\n",
    "\n",
    "    1) Use o método info e o método describe para entender como os dados se comportam\n",
    "    2) percebemos que existe uma coluna cujos valores são object. Quantos valores existem para cada atributo presente nessa coluna?\n",
    "    3) plote um histograma de cada coluna numérica para entender a distribuição dos dados. Use 50 bins e ajuste o tamanho das imagens para (20,15)\n",
    "\n",
    "O que você pode observar a partir dos histogramas? Os dados podem ser inseridos num algoritmo de machine learning da maneira que estão? Dica: não!! \n",
    "\n",
    "Tente descrever o motivo. "
   ]
  },
  {
   "cell_type": "code",
   "execution_count": 3,
   "metadata": {},
   "outputs": [
    {
     "name": "stdout",
     "output_type": "stream",
     "text": [
      "<class 'pandas.core.frame.DataFrame'>\n",
      "RangeIndex: 20640 entries, 0 to 20639\n",
      "Data columns (total 10 columns):\n",
      " #   Column              Non-Null Count  Dtype  \n",
      "---  ------              --------------  -----  \n",
      " 0   longitude           20640 non-null  float64\n",
      " 1   latitude            20640 non-null  float64\n",
      " 2   housing_median_age  20640 non-null  float64\n",
      " 3   total_rooms         20640 non-null  float64\n",
      " 4   total_bedrooms      20433 non-null  float64\n",
      " 5   population          20640 non-null  float64\n",
      " 6   households          20640 non-null  float64\n",
      " 7   median_income       20640 non-null  float64\n",
      " 8   median_house_value  20640 non-null  float64\n",
      " 9   ocean_proximity     20640 non-null  object \n",
      "dtypes: float64(9), object(1)\n",
      "memory usage: 1.6+ MB\n"
     ]
    },
    {
     "data": {
      "text/html": [
       "<div>\n",
       "<style scoped>\n",
       "    .dataframe tbody tr th:only-of-type {\n",
       "        vertical-align: middle;\n",
       "    }\n",
       "\n",
       "    .dataframe tbody tr th {\n",
       "        vertical-align: top;\n",
       "    }\n",
       "\n",
       "    .dataframe thead th {\n",
       "        text-align: right;\n",
       "    }\n",
       "</style>\n",
       "<table border=\"1\" class=\"dataframe\">\n",
       "  <thead>\n",
       "    <tr style=\"text-align: right;\">\n",
       "      <th></th>\n",
       "      <th>longitude</th>\n",
       "      <th>latitude</th>\n",
       "      <th>housing_median_age</th>\n",
       "      <th>total_rooms</th>\n",
       "      <th>total_bedrooms</th>\n",
       "      <th>population</th>\n",
       "      <th>households</th>\n",
       "      <th>median_income</th>\n",
       "      <th>median_house_value</th>\n",
       "    </tr>\n",
       "  </thead>\n",
       "  <tbody>\n",
       "    <tr>\n",
       "      <th>count</th>\n",
       "      <td>20640.000000</td>\n",
       "      <td>20640.000000</td>\n",
       "      <td>20640.000000</td>\n",
       "      <td>20640.000000</td>\n",
       "      <td>20433.000000</td>\n",
       "      <td>20640.000000</td>\n",
       "      <td>20640.000000</td>\n",
       "      <td>20640.000000</td>\n",
       "      <td>20640.000000</td>\n",
       "    </tr>\n",
       "    <tr>\n",
       "      <th>mean</th>\n",
       "      <td>-119.569704</td>\n",
       "      <td>35.631861</td>\n",
       "      <td>28.639486</td>\n",
       "      <td>2635.763081</td>\n",
       "      <td>537.870553</td>\n",
       "      <td>1425.476744</td>\n",
       "      <td>499.539680</td>\n",
       "      <td>3.870671</td>\n",
       "      <td>206855.816909</td>\n",
       "    </tr>\n",
       "    <tr>\n",
       "      <th>std</th>\n",
       "      <td>2.003532</td>\n",
       "      <td>2.135952</td>\n",
       "      <td>12.585558</td>\n",
       "      <td>2181.615252</td>\n",
       "      <td>421.385070</td>\n",
       "      <td>1132.462122</td>\n",
       "      <td>382.329753</td>\n",
       "      <td>1.899822</td>\n",
       "      <td>115395.615874</td>\n",
       "    </tr>\n",
       "    <tr>\n",
       "      <th>min</th>\n",
       "      <td>-124.350000</td>\n",
       "      <td>32.540000</td>\n",
       "      <td>1.000000</td>\n",
       "      <td>2.000000</td>\n",
       "      <td>1.000000</td>\n",
       "      <td>3.000000</td>\n",
       "      <td>1.000000</td>\n",
       "      <td>0.499900</td>\n",
       "      <td>14999.000000</td>\n",
       "    </tr>\n",
       "    <tr>\n",
       "      <th>25%</th>\n",
       "      <td>-121.800000</td>\n",
       "      <td>33.930000</td>\n",
       "      <td>18.000000</td>\n",
       "      <td>1447.750000</td>\n",
       "      <td>296.000000</td>\n",
       "      <td>787.000000</td>\n",
       "      <td>280.000000</td>\n",
       "      <td>2.563400</td>\n",
       "      <td>119600.000000</td>\n",
       "    </tr>\n",
       "    <tr>\n",
       "      <th>50%</th>\n",
       "      <td>-118.490000</td>\n",
       "      <td>34.260000</td>\n",
       "      <td>29.000000</td>\n",
       "      <td>2127.000000</td>\n",
       "      <td>435.000000</td>\n",
       "      <td>1166.000000</td>\n",
       "      <td>409.000000</td>\n",
       "      <td>3.534800</td>\n",
       "      <td>179700.000000</td>\n",
       "    </tr>\n",
       "    <tr>\n",
       "      <th>75%</th>\n",
       "      <td>-118.010000</td>\n",
       "      <td>37.710000</td>\n",
       "      <td>37.000000</td>\n",
       "      <td>3148.000000</td>\n",
       "      <td>647.000000</td>\n",
       "      <td>1725.000000</td>\n",
       "      <td>605.000000</td>\n",
       "      <td>4.743250</td>\n",
       "      <td>264725.000000</td>\n",
       "    </tr>\n",
       "    <tr>\n",
       "      <th>max</th>\n",
       "      <td>-114.310000</td>\n",
       "      <td>41.950000</td>\n",
       "      <td>52.000000</td>\n",
       "      <td>39320.000000</td>\n",
       "      <td>6445.000000</td>\n",
       "      <td>35682.000000</td>\n",
       "      <td>6082.000000</td>\n",
       "      <td>15.000100</td>\n",
       "      <td>500001.000000</td>\n",
       "    </tr>\n",
       "  </tbody>\n",
       "</table>\n",
       "</div>"
      ],
      "text/plain": [
       "          longitude      latitude  housing_median_age   total_rooms  \\\n",
       "count  20640.000000  20640.000000        20640.000000  20640.000000   \n",
       "mean    -119.569704     35.631861           28.639486   2635.763081   \n",
       "std        2.003532      2.135952           12.585558   2181.615252   \n",
       "min     -124.350000     32.540000            1.000000      2.000000   \n",
       "25%     -121.800000     33.930000           18.000000   1447.750000   \n",
       "50%     -118.490000     34.260000           29.000000   2127.000000   \n",
       "75%     -118.010000     37.710000           37.000000   3148.000000   \n",
       "max     -114.310000     41.950000           52.000000  39320.000000   \n",
       "\n",
       "       total_bedrooms    population    households  median_income  \\\n",
       "count    20433.000000  20640.000000  20640.000000   20640.000000   \n",
       "mean       537.870553   1425.476744    499.539680       3.870671   \n",
       "std        421.385070   1132.462122    382.329753       1.899822   \n",
       "min          1.000000      3.000000      1.000000       0.499900   \n",
       "25%        296.000000    787.000000    280.000000       2.563400   \n",
       "50%        435.000000   1166.000000    409.000000       3.534800   \n",
       "75%        647.000000   1725.000000    605.000000       4.743250   \n",
       "max       6445.000000  35682.000000   6082.000000      15.000100   \n",
       "\n",
       "       median_house_value  \n",
       "count        20640.000000  \n",
       "mean        206855.816909  \n",
       "std         115395.615874  \n",
       "min          14999.000000  \n",
       "25%         119600.000000  \n",
       "50%         179700.000000  \n",
       "75%         264725.000000  \n",
       "max         500001.000000  "
      ]
     },
     "execution_count": 3,
     "metadata": {},
     "output_type": "execute_result"
    }
   ],
   "source": [
    "# resposta 1\n",
    "housing.info()\n",
    "housing.describe()"
   ]
  },
  {
   "cell_type": "code",
   "execution_count": 4,
   "metadata": {},
   "outputs": [
    {
     "data": {
      "text/plain": [
       "ocean_proximity\n",
       "<1H OCEAN     9136\n",
       "INLAND        6551\n",
       "ISLAND           5\n",
       "NEAR BAY      2290\n",
       "NEAR OCEAN    2658\n",
       "dtype: int64"
      ]
     },
     "execution_count": 4,
     "metadata": {},
     "output_type": "execute_result"
    }
   ],
   "source": [
    "# resposta 2\n",
    "housing.count()\n",
    "housing.groupby(['ocean_proximity']).size()"
   ]
  },
  {
   "cell_type": "code",
   "execution_count": 5,
   "metadata": {},
   "outputs": [
    {
     "data": {
      "image/png": "[encoded data removed]",
      "text/plain": [
       "<Figure size 1440x1080 with 1 Axes>"
      ]
     },
     "metadata": {
      "needs_background": "light"
     },
     "output_type": "display_data"
    },
    {
     "data": {
      "image/png": "[encoded data removed]",
      "text/plain": [
       "<Figure size 1440x1080 with 1 Axes>"
      ]
     },
     "metadata": {
      "needs_background": "light"
     },
     "output_type": "display_data"
    },
    {
     "data": {
      "image/png": "[encoded data removed]",
      "text/plain": [
       "<Figure size 1440x1080 with 1 Axes>"
      ]
     },
     "metadata": {
      "needs_background": "light"
     },
     "output_type": "display_data"
    },
    {
     "data": {
      "image/png": "[encoded data removed]",
      "text/plain": [
       "<Figure size 1440x1080 with 1 Axes>"
      ]
     },
     "metadata": {
      "needs_background": "light"
     },
     "output_type": "display_data"
    },
    {
     "data": {
      "image/png": "[encoded data removed]",
      "text/plain": [
       "<Figure size 1440x1080 with 1 Axes>"
      ]
     },
     "metadata": {
      "needs_background": "light"
     },
     "output_type": "display_data"
    },
    {
     "data": {
      "image/png": "[encoded data removed]",
      "text/plain": [
       "<Figure size 1440x1080 with 1 Axes>"
      ]
     },
     "metadata": {
      "needs_background": "light"
     },
     "output_type": "display_data"
    },
    {
     "data": {
      "image/png": "[encoded data removed]",
      "text/plain": [
       "<Figure size 1440x1080 with 1 Axes>"
      ]
     },
     "metadata": {
      "needs_background": "light"
     },
     "output_type": "display_data"
    },
    {
     "data": {
      "image/png": "[encoded data removed]",
      "text/plain": [
       "<Figure size 1440x1080 with 1 Axes>"
      ]
     },
     "metadata": {
      "needs_background": "light"
     },
     "output_type": "display_data"
    },
    {
     "data": {
      "image/png": "[encoded data removed]",
      "text/plain": [
       "<Figure size 1440x1080 with 1 Axes>"
      ]
     },
     "metadata": {
      "needs_background": "light"
     },
     "output_type": "display_data"
    }
   ],
   "source": [
    "# resposta 3\n",
    "atributo_list = ['longitude', 'latitude', 'housing_median_age', 'total_rooms', 'total_bedrooms', 'population', 'households', 'median_income', 'median_house_value']\n",
    "\n",
    "for atrib in atributo_list:\n",
    "    housing.hist(column=atrib, bins=50, figsize=(20,15))\n"
   ]
  },
  {
   "cell_type": "markdown",
   "metadata": {},
   "source": [
    "### TODO 2: Criando conjunto de treino e teste\n",
    "    4) utilizando train_test_split, da Scikit-Learn, separe o conjunto em treino e teste. utilize train_set e test_set como nome de variáveis, separe 20% para conjunto de teste e utilize 42 como random_state"
   ]
  },
  {
   "cell_type": "code",
   "execution_count": 6,
   "metadata": {},
   "outputs": [],
   "source": [
    "# resposta 4\n",
    "train_set, test_set = train_test_split(housing, test_size=0.20, random_state=42)"
   ]
  },
  {
   "cell_type": "markdown",
   "metadata": {},
   "source": [
    "### TODO 3: Correlação e visualização\n",
    "\n",
    "    5) Quais as variáveis que mais possuem correlação com o atributo median_house_value?\n",
    "    6) Utilize scatter_matrix, do pandas para visualizar a correlação do atributo median_house_value com os atributos que possuem maior correlação com ele. Ajuste o tamanho das imagens para (12, 8)"
   ]
  },
  {
   "cell_type": "code",
   "execution_count": 7,
   "metadata": {},
   "outputs": [
    {
     "data": {
      "text/html": [
       "<style  type=\"text/css\" >\n",
       "    #T_e44de300_5cbf_11ea_9846_5cc9d3833714row0_col0 {\n",
       "            background-color:  #b40426;\n",
       "            color:  #f1f1f1;\n",
       "        }    #T_e44de300_5cbf_11ea_9846_5cc9d3833714row1_col0 {\n",
       "            background-color:  #f6a283;\n",
       "            color:  #000000;\n",
       "        }    #T_e44de300_5cbf_11ea_9846_5cc9d3833714row2_col0 {\n",
       "            background-color:  #8badfd;\n",
       "            color:  #000000;\n",
       "        }    #T_e44de300_5cbf_11ea_9846_5cc9d3833714row3_col0 {\n",
       "            background-color:  #81a4fb;\n",
       "            color:  #000000;\n",
       "        }    #T_e44de300_5cbf_11ea_9846_5cc9d3833714row4_col0 {\n",
       "            background-color:  #7597f6;\n",
       "            color:  #000000;\n",
       "        }    #T_e44de300_5cbf_11ea_9846_5cc9d3833714row5_col0 {\n",
       "            background-color:  #7093f3;\n",
       "            color:  #000000;\n",
       "        }    #T_e44de300_5cbf_11ea_9846_5cc9d3833714row6_col0 {\n",
       "            background-color:  #5a78e4;\n",
       "            color:  #000000;\n",
       "        }    #T_e44de300_5cbf_11ea_9846_5cc9d3833714row7_col0 {\n",
       "            background-color:  #5470de;\n",
       "            color:  #000000;\n",
       "        }    #T_e44de300_5cbf_11ea_9846_5cc9d3833714row8_col0 {\n",
       "            background-color:  #3b4cc0;\n",
       "            color:  #f1f1f1;\n",
       "        }</style><table id=\"T_e44de300_5cbf_11ea_9846_5cc9d3833714\" ><thead>    <tr>        <th class=\"blank level0\" ></th>        <th class=\"col_heading level0 col0\" >median_house_value</th>    </tr></thead><tbody>\n",
       "                <tr>\n",
       "                        <th id=\"T_e44de300_5cbf_11ea_9846_5cc9d3833714level0_row0\" class=\"row_heading level0 row0\" >median_house_value</th>\n",
       "                        <td id=\"T_e44de300_5cbf_11ea_9846_5cc9d3833714row0_col0\" class=\"data row0 col0\" >1</td>\n",
       "            </tr>\n",
       "            <tr>\n",
       "                        <th id=\"T_e44de300_5cbf_11ea_9846_5cc9d3833714level0_row1\" class=\"row_heading level0 row1\" >median_income</th>\n",
       "                        <td id=\"T_e44de300_5cbf_11ea_9846_5cc9d3833714row1_col0\" class=\"data row1 col0\" >0.688075</td>\n",
       "            </tr>\n",
       "            <tr>\n",
       "                        <th id=\"T_e44de300_5cbf_11ea_9846_5cc9d3833714level0_row2\" class=\"row_heading level0 row2\" >total_rooms</th>\n",
       "                        <td id=\"T_e44de300_5cbf_11ea_9846_5cc9d3833714row2_col0\" class=\"data row2 col0\" >0.134153</td>\n",
       "            </tr>\n",
       "            <tr>\n",
       "                        <th id=\"T_e44de300_5cbf_11ea_9846_5cc9d3833714level0_row3\" class=\"row_heading level0 row3\" >housing_median_age</th>\n",
       "                        <td id=\"T_e44de300_5cbf_11ea_9846_5cc9d3833714row3_col0\" class=\"data row3 col0\" >0.105623</td>\n",
       "            </tr>\n",
       "            <tr>\n",
       "                        <th id=\"T_e44de300_5cbf_11ea_9846_5cc9d3833714level0_row4\" class=\"row_heading level0 row4\" >households</th>\n",
       "                        <td id=\"T_e44de300_5cbf_11ea_9846_5cc9d3833714row4_col0\" class=\"data row4 col0\" >0.0658427</td>\n",
       "            </tr>\n",
       "            <tr>\n",
       "                        <th id=\"T_e44de300_5cbf_11ea_9846_5cc9d3833714level0_row5\" class=\"row_heading level0 row5\" >total_bedrooms</th>\n",
       "                        <td id=\"T_e44de300_5cbf_11ea_9846_5cc9d3833714row5_col0\" class=\"data row5 col0\" >0.0496862</td>\n",
       "            </tr>\n",
       "            <tr>\n",
       "                        <th id=\"T_e44de300_5cbf_11ea_9846_5cc9d3833714level0_row6\" class=\"row_heading level0 row6\" >population</th>\n",
       "                        <td id=\"T_e44de300_5cbf_11ea_9846_5cc9d3833714row6_col0\" class=\"data row6 col0\" >-0.0246497</td>\n",
       "            </tr>\n",
       "            <tr>\n",
       "                        <th id=\"T_e44de300_5cbf_11ea_9846_5cc9d3833714level0_row7\" class=\"row_heading level0 row7\" >longitude</th>\n",
       "                        <td id=\"T_e44de300_5cbf_11ea_9846_5cc9d3833714row7_col0\" class=\"data row7 col0\" >-0.0459666</td>\n",
       "            </tr>\n",
       "            <tr>\n",
       "                        <th id=\"T_e44de300_5cbf_11ea_9846_5cc9d3833714level0_row8\" class=\"row_heading level0 row8\" >latitude</th>\n",
       "                        <td id=\"T_e44de300_5cbf_11ea_9846_5cc9d3833714row8_col0\" class=\"data row8 col0\" >-0.14416</td>\n",
       "            </tr>\n",
       "    </tbody></table>"
      ],
      "text/plain": [
       "<pandas.io.formats.style.Styler at 0xc5e7470>"
      ]
     },
     "execution_count": 7,
     "metadata": {},
     "output_type": "execute_result"
    }
   ],
   "source": [
    "# resposta 5\n",
    "correlation = housing.corr()\n",
    "correlation.style.background_gradient(cmap='coolwarm')\n",
    "filtered = correlation.loc['median_house_value'].to_frame()\n",
    "filtered.sort_values(by='median_house_value', ascending=False).style.background_gradient(cmap='coolwarm')"
   ]
  },
  {
   "cell_type": "code",
   "execution_count": 8,
   "metadata": {},
   "outputs": [
    {
     "data": {
      "text/plain": [
       "array([[<matplotlib.axes._subplots.AxesSubplot object at 0x000000000EAF1978>,\n",
       "        <matplotlib.axes._subplots.AxesSubplot object at 0x000000000EB85198>,\n",
       "        <matplotlib.axes._subplots.AxesSubplot object at 0x000000000EB39908>],\n",
       "       [<matplotlib.axes._subplots.AxesSubplot object at 0x000000000EC610B8>,\n",
       "        <matplotlib.axes._subplots.AxesSubplot object at 0x000000000ECD6828>,\n",
       "        <matplotlib.axes._subplots.AxesSubplot object at 0x000000000ED0BF98>],\n",
       "       [<matplotlib.axes._subplots.AxesSubplot object at 0x000000000EDCD748>,\n",
       "        <matplotlib.axes._subplots.AxesSubplot object at 0x000000000EE4BEB8>,\n",
       "        <matplotlib.axes._subplots.AxesSubplot object at 0x000000000EEDF668>]],\n",
       "      dtype=object)"
      ]
     },
     "execution_count": 8,
     "metadata": {},
     "output_type": "execute_result"
    },
    {
     "data": {
      "image/png": "[encoded data removed]",
      "text/plain": [
       "<Figure size 864x576 with 9 Axes>"
      ]
     },
     "metadata": {
      "needs_background": "light"
     },
     "output_type": "display_data"
    }
   ],
   "source": [
    "# resposta 6\n",
    "params=['median_income','total_rooms', 'housing_median_age']\n",
    "pd.plotting.scatter_matrix(correlation[params], figsize=(12,8))"
   ]
  },
  {
   "cell_type": "markdown",
   "metadata": {},
   "source": [
    "### TODO 4: Limpeza de dados\n",
    "\n",
    "Ao usar o método info(), descobrimos que existem alguns dados faltantes no nosso algoritmo. A partir daqui, a variável housing será o conteúdo de train_set, excluindo-se a coluna meta (median_house_value).  Atribua para a variável housing_labels uma cópia de train_set só com informações da coluna meta\n",
    "\n",
    "    7) use simpleImputer para tratar os valores faltantes. Escolha a estratégia que achar mais conveniente"
   ]
  },
  {
   "cell_type": "code",
   "execution_count": 9,
   "metadata": {},
   "outputs": [
    {
     "name": "stdout",
     "output_type": "stream",
     "text": [
      "<class 'pandas.core.frame.DataFrame'>\n",
      "RangeIndex: 20640 entries, 0 to 20639\n",
      "Data columns (total 10 columns):\n",
      "longitude             20640 non-null float64\n",
      "latitude              20640 non-null float64\n",
      "housing_median_age    20640 non-null float64\n",
      "total_rooms           20640 non-null float64\n",
      "total_bedrooms        20433 non-null float64\n",
      "population            20640 non-null float64\n",
      "households            20640 non-null float64\n",
      "median_income         20640 non-null float64\n",
      "median_house_value    20640 non-null float64\n",
      "ocean_proximity       20640 non-null object\n",
      "dtypes: float64(9), object(1)\n",
      "memory usage: 1.6+ MB\n"
     ]
    }
   ],
   "source": [
    "# resposta 7\n",
    "\n",
    "#Método info para validação dos dados\n",
    "housing.info()\n",
    "\n",
    "atributo_list = ['longitude', 'latitude', 'housing_median_age', 'total_rooms', 'total_bedrooms', 'population', 'households', 'median_income', 'median_house_value']\n",
    "\n",
    "#Tratativa de valores NaN para evitar erros de plot do histograma, substitui NaN pela média do atributo\n",
    "def replace_nan_values(atributo, df):\n",
    "    imr = SimpleImputer(missing_values=np.nan, strategy='mean')\n",
    "    imr = imr.fit(df[[atributo]])\n",
    "    df[atributo] = imr.transform(df[[atributo]]).ravel()\n",
    "    return df\n",
    "    \n",
    "for atrib in atributo_list:\n",
    "    if housing[atrib].isnull().values.any():\n",
    "        housing = replace_nan_values(atrib, housing)\n",
    "        \n",
    "#Atribuí a variável house o conteúdo de train_set\n",
    "housing = train_set.drop(columns=['median_house_value'])\n",
    "\n",
    "# Cópia da coluna meta\n",
    "housing_labels = train_set['median_house_value']"
   ]
  },
  {
   "cell_type": "markdown",
   "metadata": {},
   "source": [
    "### TODO 4: Manipulação de Atributos categóricos\n",
    "    7) Utilizando OrdinalEncoder, manipule os valores categóricos para preparar os dados corretamente para algoritmos de machine learning"
   ]
  },
  {
   "cell_type": "code",
   "execution_count": 10,
   "metadata": {},
   "outputs": [
    {
     "data": {
      "text/plain": [
       "14196    4.0\n",
       "8267     4.0\n",
       "17445    4.0\n",
       "14265    4.0\n",
       "2271     1.0\n",
       "17848    0.0\n",
       "6252     0.0\n",
       "9389     3.0\n",
       "6113     0.0\n",
       "6061     0.0\n",
       "16030    3.0\n",
       "8364     0.0\n",
       "9448     1.0\n",
       "17529    0.0\n",
       "5865     0.0\n",
       "7615     0.0\n",
       "9707     0.0\n",
       "16332    1.0\n",
       "3449     0.0\n",
       "5199     0.0\n",
       "13496    1.0\n",
       "18056    0.0\n",
       "9529     0.0\n",
       "5128     0.0\n",
       "18796    1.0\n",
       "413      3.0\n",
       "1175     1.0\n",
       "4387     0.0\n",
       "11628    0.0\n",
       "9787     0.0\n",
       "        ... \n",
       "1267     1.0\n",
       "1899     1.0\n",
       "3005     1.0\n",
       "19118    0.0\n",
       "189      3.0\n",
       "2747     1.0\n",
       "18431    0.0\n",
       "18942    1.0\n",
       "8666     4.0\n",
       "6396     1.0\n",
       "19769    1.0\n",
       "17568    0.0\n",
       "6420     1.0\n",
       "5051     0.0\n",
       "5311     0.0\n",
       "2433     1.0\n",
       "769      3.0\n",
       "1685     3.0\n",
       "8322     0.0\n",
       "16023    3.0\n",
       "11363    0.0\n",
       "14423    4.0\n",
       "4426     0.0\n",
       "16850    4.0\n",
       "6265     0.0\n",
       "11284    0.0\n",
       "11964    1.0\n",
       "5390     0.0\n",
       "860      0.0\n",
       "15795    3.0\n",
       "Name: ocean_proximity, Length: 16512, dtype: float64"
      ]
     },
     "execution_count": 10,
     "metadata": {},
     "output_type": "execute_result"
    }
   ],
   "source": [
    "# resposta 7\n",
    "\n",
    "enc = OrdinalEncoder()\n",
    "housing['ocean_proximity'] = enc.fit_transform(np.array(housing['ocean_proximity']).reshape(-1, 1))\n",
    "\n",
    "housing['ocean_proximity']"
   ]
  },
  {
   "cell_type": "markdown",
   "metadata": {},
   "source": [
    "### TODO 5: Feature Normalization\n",
    "\n",
    "Com algumas poucas exceções, algoritmos de machine learning não performam bem quando os atributos numéricos possuem escalas diferentes. Este é o caso de nosso dataset, em que o atributo total_rooms possui um range de 6 a 39320 enquanto median_income varia de 0.5 a 15.\n",
    "\n",
    "Existem duas abordagens conhecidas para trazer os atributos para uma mesma escala: min-max scaling e standardization. \n",
    "\n",
    "min-max scaling (normalization) consiste em subtratir o valor minimo e dividir pela subtração de max por min:\n",
    "\n",
    "\\begin{align}\n",
    "x = \\frac{x - min}{max - min}\n",
    "\\end{align}\n",
    "\n",
    "A Scikit-Learn provê o método MinMaxScaler que realiza essa operação. \n",
    "\n",
    "Já standardization consiste em subtrair a média(valores sempre terao média zero) e então dividir pela variância de modo que a distribuição resultante possua variância unitária. \n",
    "\n",
    "\\begin{align}\n",
    "x = \\frac{x - \\mu}{\\sigma}\n",
    "\\end{align}\n",
    "\n",
    "Diferentemente de normalization, standardization não leva os números a um intervalo específico, o que pode ser um problema para algoritmos específicos (por exemplo, redes neurais geralmente esperam um valor de entrada entre o intervalo 0-1). Entretanto, standdardization é muito menos sensível à outiliers. Scikit-learn provêo método StandardScaler para standardization. \n",
    "\n",
    "    8) Adeque os valores de cada coluna numérica para que eles fiquem normalizados. Use o método que achar mais conveniente"
   ]
  },
  {
   "cell_type": "code",
   "execution_count": 11,
   "metadata": {},
   "outputs": [
    {
     "data": {
      "text/html": [
       "<div>\n",
       "<style scoped>\n",
       "    .dataframe tbody tr th:only-of-type {\n",
       "        vertical-align: middle;\n",
       "    }\n",
       "\n",
       "    .dataframe tbody tr th {\n",
       "        vertical-align: top;\n",
       "    }\n",
       "\n",
       "    .dataframe thead th {\n",
       "        text-align: right;\n",
       "    }\n",
       "</style>\n",
       "<table border=\"1\" class=\"dataframe\">\n",
       "  <thead>\n",
       "    <tr style=\"text-align: right;\">\n",
       "      <th></th>\n",
       "      <th>longitude</th>\n",
       "      <th>latitude</th>\n",
       "      <th>housing_median_age</th>\n",
       "      <th>total_rooms</th>\n",
       "      <th>total_bedrooms</th>\n",
       "      <th>population</th>\n",
       "      <th>households</th>\n",
       "      <th>median_income</th>\n",
       "      <th>ocean_proximity</th>\n",
       "    </tr>\n",
       "  </thead>\n",
       "  <tbody>\n",
       "    <tr>\n",
       "      <th>14196</th>\n",
       "      <td>0.729084</td>\n",
       "      <td>0.017021</td>\n",
       "      <td>0.627451</td>\n",
       "      <td>0.079455</td>\n",
       "      <td>0.097145</td>\n",
       "      <td>0.064380</td>\n",
       "      <td>0.102286</td>\n",
       "      <td>0.190322</td>\n",
       "      <td>4.0</td>\n",
       "    </tr>\n",
       "    <tr>\n",
       "      <th>8267</th>\n",
       "      <td>0.616534</td>\n",
       "      <td>0.129787</td>\n",
       "      <td>0.941176</td>\n",
       "      <td>0.085966</td>\n",
       "      <td>0.121974</td>\n",
       "      <td>0.036744</td>\n",
       "      <td>0.124157</td>\n",
       "      <td>0.228452</td>\n",
       "      <td>4.0</td>\n",
       "    </tr>\n",
       "    <tr>\n",
       "      <th>17445</th>\n",
       "      <td>0.385458</td>\n",
       "      <td>0.224468</td>\n",
       "      <td>0.058824</td>\n",
       "      <td>0.048197</td>\n",
       "      <td>0.051210</td>\n",
       "      <td>0.025561</td>\n",
       "      <td>0.055090</td>\n",
       "      <td>0.252162</td>\n",
       "      <td>4.0</td>\n",
       "    </tr>\n",
       "    <tr>\n",
       "      <th>14265</th>\n",
       "      <td>0.721116</td>\n",
       "      <td>0.014894</td>\n",
       "      <td>0.686275</td>\n",
       "      <td>0.036090</td>\n",
       "      <td>0.056797</td>\n",
       "      <td>0.039659</td>\n",
       "      <td>0.058214</td>\n",
       "      <td>0.099488</td>\n",
       "      <td>4.0</td>\n",
       "    </tr>\n",
       "    <tr>\n",
       "      <th>2271</th>\n",
       "      <td>0.453187</td>\n",
       "      <td>0.450000</td>\n",
       "      <td>0.823529</td>\n",
       "      <td>0.060532</td>\n",
       "      <td>0.066729</td>\n",
       "      <td>0.024412</td>\n",
       "      <td>0.062325</td>\n",
       "      <td>0.210638</td>\n",
       "      <td>1.0</td>\n",
       "    </tr>\n",
       "  </tbody>\n",
       "</table>\n",
       "</div>"
      ],
      "text/plain": [
       "       longitude  latitude  housing_median_age  total_rooms  total_bedrooms  \\\n",
       "14196   0.729084  0.017021            0.627451     0.079455        0.097145   \n",
       "8267    0.616534  0.129787            0.941176     0.085966        0.121974   \n",
       "17445   0.385458  0.224468            0.058824     0.048197        0.051210   \n",
       "14265   0.721116  0.014894            0.686275     0.036090        0.056797   \n",
       "2271    0.453187  0.450000            0.823529     0.060532        0.066729   \n",
       "\n",
       "       population  households  median_income  ocean_proximity  \n",
       "14196    0.064380    0.102286       0.190322              4.0  \n",
       "8267     0.036744    0.124157       0.228452              4.0  \n",
       "17445    0.025561    0.055090       0.252162              4.0  \n",
       "14265    0.039659    0.058214       0.099488              4.0  \n",
       "2271     0.024412    0.062325       0.210638              1.0  "
      ]
     },
     "execution_count": 11,
     "metadata": {},
     "output_type": "execute_result"
    }
   ],
   "source": [
    "# resposta 8\n",
    "scaler = MinMaxScaler()\n",
    "\n",
    "#Lista colunas numéricas\n",
    "atributo_list = ['longitude', 'latitude', 'housing_median_age', 'total_rooms', 'total_bedrooms', 'population', 'households', 'median_income']\n",
    "\n",
    "for atrib in atributo_list:\n",
    "    housing[atrib] = scaler.fit_transform(np.array(housing[atrib]).reshape(-1, 1))\n",
    "    \n",
    "housing.head()"
   ]
  },
  {
   "cell_type": "markdown",
   "metadata": {},
   "source": [
    "### TODO 6: Pipeline de Transformação\n",
    "    9) crie um pipeline de transformação para tratar os atributos numéricos, outro para tratar os atributos categóricos e um para juntar os dois e preparar todos os dados para entrada num algoritmo de machine learning. Caso queira, pode usar a classe DataFrameSelector vista na aula 4 (recomendável). A variável de saída desse algoritmo deverá se chamar housing_prepared\n"
   ]
  },
  {
   "cell_type": "code",
   "execution_count": 12,
   "metadata": {},
   "outputs": [
    {
     "data": {
      "text/plain": [
       "array([[0.72908367, 0.01702128, 0.62745098, ..., 0.10228581, 0.19032151,\n",
       "        4.        ],\n",
       "       [0.61653386, 0.12978723, 0.94117647, ..., 0.12415721, 0.22845202,\n",
       "        4.        ],\n",
       "       [0.38545817, 0.22446809, 0.05882353, ..., 0.05508962, 0.25216204,\n",
       "        4.        ],\n",
       "       ...,\n",
       "       [0.59462151, 0.15744681, 0.68627451, ..., 0.08649893, 0.16789424,\n",
       "        0.        ],\n",
       "       [0.23804781, 0.53510638, 0.2745098 , ..., 0.09176122, 0.35994676,\n",
       "        0.        ],\n",
       "       [0.19223108, 0.55531915, 1.        , ..., 0.20407828, 0.14314285,\n",
       "        3.        ]])"
      ]
     },
     "execution_count": 12,
     "metadata": {},
     "output_type": "execute_result"
    }
   ],
   "source": [
    "# resposta 9\n",
    "\n",
    "from sklearn.base import BaseEstimator, TransformerMixin\n",
    "from sklearn.pipeline import FeatureUnion\n",
    "from sklearn.preprocessing import OrdinalEncoder\n",
    "\n",
    "class DataFrameSelector(BaseEstimator, TransformerMixin):\n",
    "    def __init__(self, attribute_names):\n",
    "        self.attribute_names = attribute_names\n",
    "    def fit(self, X, y=None):\n",
    "        return self\n",
    "    def transform(self, X):\n",
    "        return X[self.attribute_names].values\n",
    "\n",
    "#Lista atributos numéricos e categoricos\n",
    "num_attribs = ['longitude', 'latitude', 'housing_median_age', 'total_rooms', 'total_bedrooms', 'population', 'households', 'median_income']\n",
    "cat_attribs = ['ocean_proximity']\n",
    "\n",
    "#Geração dos pipelines\n",
    "num_pipeline = Pipeline([\n",
    "    ('selector', DataFrameSelector(num_attribs)),\n",
    "    ('imputer', SimpleImputer(missing_values=np.nan, strategy='mean')),\n",
    "])\n",
    "cat_pipeline = Pipeline([\n",
    "    ('selector', DataFrameSelector(cat_attribs)),\n",
    "    ('categorial_encoder', OrdinalEncoder())\n",
    "])\n",
    "full_pipeline = FeatureUnion(transformer_list=[\n",
    "    (\"num_pipeline\", num_pipeline),\n",
    "    (\"cat_pipeline\", cat_pipeline),\n",
    "])\n",
    "\n",
    "housing_prepared = full_pipeline.fit_transform(housing)\n",
    "housing_prepared"
   ]
  },
  {
   "cell_type": "markdown",
   "metadata": {},
   "source": [
    "### TODO 7: Regressão Linear\n",
    "\n",
    "    10) Ajuste uma regressão linear aos dados. Utilize a versão da Scikit-Learn"
   ]
  },
  {
   "cell_type": "code",
   "execution_count": 14,
   "metadata": {},
   "outputs": [
    {
     "name": "stdout",
     "output_type": "stream",
     "text": [
      "4810958229.7877865\n"
     ]
    },
    {
     "data": {
      "text/plain": [
       "array([-4.29789969e+05, -4.00118296e+05,  6.03977562e+04, -3.19906507e+05,\n",
       "        7.50030196e+05, -1.37705631e+06,  2.80960206e+05,  5.87429684e+05,\n",
       "       -3.18827157e+02])"
      ]
     },
     "execution_count": 14,
     "metadata": {},
     "output_type": "execute_result"
    }
   ],
   "source": [
    "# resposta 10\n",
    "\n",
    "from sklearn import linear_model\n",
    "from sklearn.metrics import mean_squared_error\n",
    "\n",
    "lin_reg = linear_model.LinearRegression()\n",
    "lin_reg.fit(housing, housing_labels.ravel()) \n",
    "\n",
    "y_pred = lin_reg.predict(housing) # predizando\n",
    "print(mean_squared_error(housing_labels,y_pred)) # MSE\n",
    "lin_reg.coef_  #valores finais de theta"
   ]
  },
  {
   "cell_type": "code",
   "execution_count": null,
   "metadata": {},
   "outputs": [],
   "source": [
    "# Apenas para testar seu resultado\n",
    "some_data = housing.iloc[:5] # dados para predizer\n",
    "some_labels = housing_labels.iloc[:5] # rótulos dos dados acima\n",
    "some_data_prepared = full_pipeline.transform(some_data) # transformação dos dados (considerando que seu pipeline tenha esse nome)\n",
    "print(\"Predictions:\\t\", lin_reg.predict(some_data_prepared)) # predizendo\n",
    "print(\"Labels:\\t\\t\", list(some_labels)) # valores corretos"
   ]
  },
  {
   "cell_type": "markdown",
   "metadata": {},
   "source": [
    "### TODO 8: RMSE \n",
    "    11) Utilizando Scikit-Learn, extraia o RMSE das predições a partir da variável housing_prepared. "
   ]
  },
  {
   "cell_type": "code",
   "execution_count": 15,
   "metadata": {},
   "outputs": [
    {
     "name": "stdout",
     "output_type": "stream",
     "text": [
      "4810958229.7877865\n"
     ]
    }
   ],
   "source": [
    "# resposta 11\n",
    "y_pred = lin_reg.predict(housing_prepared) # predizando\n",
    "print(mean_squared_error(housing_labels,y_pred)) # MSE"
   ]
  }
 ],
 "metadata": {
  "kernelspec": {
   "display_name": "opencv-env",
   "language": "python",
   "name": "opencv-env"
  },
  "language_info": {
   "codemirror_mode": {
    "name": "ipython",
    "version": 3
   },
   "file_extension": ".py",
   "mimetype": "text/x-python",
   "name": "python",
   "nbconvert_exporter": "python",
   "pygments_lexer": "ipython3",
   "version": "3.6.10"
  }
 },
 "nbformat": 4,
 "nbformat_minor": 4
}
